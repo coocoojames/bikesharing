{
 "cells": [
  {
   "cell_type": "code",
   "execution_count": null,
   "id": "e505aa7d",
   "metadata": {},
   "outputs": [],
   "source": [
    "import pandas as pd\n",
    "import datetime as dt"
   ]
  },
  {
   "cell_type": "code",
   "execution_count": null,
   "id": "f721bc50",
   "metadata": {},
   "outputs": [],
   "source": [
    "# import csv as data frame.\n",
    "citi_pd = pd.read_csv('201908-citibike-tripdata.csv')\n",
    "citi_pd"
   ]
  },
  {
   "cell_type": "code",
   "execution_count": null,
   "id": "6c546d5c",
   "metadata": {},
   "outputs": [],
   "source": [
    "# isolate duration column, convert to hour, minutes, seconds, then\n",
    "# assign to a test variable\n",
    "test = pd.to_datetime(citi_pd['tripduration'], unit= 's').dt.strftime('%H:%M:%S')"
   ]
  },
  {
   "cell_type": "code",
   "execution_count": null,
   "id": "621ee76b",
   "metadata": {},
   "outputs": [],
   "source": [
    "# check if converted correctly\n",
    "test"
   ]
  },
  {
   "cell_type": "code",
   "execution_count": null,
   "id": "b612acfb",
   "metadata": {},
   "outputs": [],
   "source": [
    "# assign test variable back to original data frame to replace tripduration\n",
    "citi_pd['tripduration'] = test"
   ]
  },
  {
   "cell_type": "code",
   "execution_count": null,
   "id": "07d974e3",
   "metadata": {},
   "outputs": [],
   "source": [
    "# check if successfully assigned and stored\n",
    "citi_pd"
   ]
  },
  {
   "cell_type": "code",
   "execution_count": null,
   "id": "12de44ac",
   "metadata": {},
   "outputs": [],
   "source": [
    "# export as new csv file\n",
    "citi_pd.to_csv('new_citibike_data.csv', index=False)"
   ]
  },
  {
   "cell_type": "code",
   "execution_count": null,
   "id": "7f478377",
   "metadata": {},
   "outputs": [],
   "source": [
    "# check if csv file exported successfully\n",
    "new_pd = pd.read_csv('new_citibike_data.csv')\n",
    "new_pd"
   ]
  },
  {
   "cell_type": "code",
   "execution_count": null,
   "id": "19cd447e",
   "metadata": {},
   "outputs": [],
   "source": []
  }
 ],
 "metadata": {
  "kernelspec": {
   "display_name": "PythonData",
   "language": "python",
   "name": "pythondata"
  },
  "language_info": {
   "codemirror_mode": {
    "name": "ipython",
    "version": 3
   },
   "file_extension": ".py",
   "mimetype": "text/x-python",
   "name": "python",
   "nbconvert_exporter": "python",
   "pygments_lexer": "ipython3",
   "version": "3.7.11"
  }
 },
 "nbformat": 4,
 "nbformat_minor": 5
}
